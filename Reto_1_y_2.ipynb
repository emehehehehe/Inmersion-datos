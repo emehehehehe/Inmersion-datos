{
  "nbformat": 4,
  "nbformat_minor": 0,
  "metadata": {
    "colab": {
      "provenance": [],
      "authorship_tag": "ABX9TyMKrqTRnRxtwgcUiv88WIwg",
      "include_colab_link": true
    },
    "kernelspec": {
      "name": "python3",
      "display_name": "Python 3"
    },
    "language_info": {
      "name": "python"
    }
  },
  "cells": [
    {
      "cell_type": "markdown",
      "metadata": {
        "id": "view-in-github",
        "colab_type": "text"
      },
      "source": [
        "<a href=\"https://colab.research.google.com/github/emehehehehe/Inmersion-datos/blob/main/Reto_1_y_2.ipynb\" target=\"_parent\"><img src=\"https://colab.research.google.com/assets/colab-badge.svg\" alt=\"Open In Colab\"/></a>"
      ]
    },
    {
      "cell_type": "markdown",
      "source": [
        "Aqui presentare paso a paso mis resultados con los retos 1 y 2"
      ],
      "metadata": {
        "id": "scdtmY8LSmp-"
      }
    },
    {
      "cell_type": "code",
      "source": [
        "#se carga el drive y se monta para acceder a la carpeta de drive y se importa la libreria"
      ],
      "metadata": {
        "id": "i1frUMsE9DSE"
      },
      "execution_count": null,
      "outputs": []
    },
    {
      "cell_type": "code",
      "source": [
        "from google.colab import drive"
      ],
      "metadata": {
        "id": "uEABnFJ38BNP"
      },
      "execution_count": null,
      "outputs": []
    },
    {
      "cell_type": "code",
      "source": [
        "drive.mount(\"/content/drive\")"
      ],
      "metadata": {
        "colab": {
          "base_uri": "https://localhost:8080/"
        },
        "id": "g19VV4Yx8H6s",
        "outputId": "2ceb4489-9b77-4006-fd3b-7d83a11b6d80"
      },
      "execution_count": null,
      "outputs": [
        {
          "output_type": "stream",
          "name": "stdout",
          "text": [
            "Mounted at /content/drive\n"
          ]
        }
      ]
    },
    {
      "cell_type": "code",
      "source": [
        "import pandas as pd"
      ],
      "metadata": {
        "id": "uAPahELc8VRG"
      },
      "execution_count": null,
      "outputs": []
    },
    {
      "cell_type": "code",
      "source": [
        "#a la variable \"imb\" se le asigna la libreria y la lectura del csv con su ruta de acceso "
      ],
      "metadata": {
        "id": "Y_zbadyk9W1q"
      },
      "execution_count": null,
      "outputs": []
    },
    {
      "cell_type": "code",
      "source": [
        "imb = pd.read_csv(\"/content/drive/MyDrive/Inmersion de datos/inmuebles_bogota.csv\")"
      ],
      "metadata": {
        "id": "BAya2Rcc8Zsy"
      },
      "execution_count": null,
      "outputs": []
    },
    {
      "cell_type": "code",
      "source": [
        "#se crea un diccionario para cambiar algunas palabras que puedan producir errores y se le asignan estos atributos\n",
        "#con \".rename\" para cambiarlos "
      ],
      "metadata": {
        "id": "K9PuJ-3g-Cll"
      },
      "execution_count": null,
      "outputs": []
    },
    {
      "cell_type": "code",
      "source": [
        "columna = {\"Baños\" : \"Banos\", \"Área\" : \"Area\"}\n",
        "imb = imb.rename(columns = columna)\n",
        "imb.sample(5)"
      ],
      "metadata": {
        "colab": {
          "base_uri": "https://localhost:8080/",
          "height": 250
        },
        "id": "QWcw1lOy8ymv",
        "outputId": "e1a709f1-7927-47f3-db79-3652aa8129dc"
      },
      "execution_count": null,
      "outputs": [
        {
          "output_type": "execute_result",
          "data": {
            "text/plain": [
              "             Tipo                          Descripcion  Habitaciones  Banos  \\\n",
              "7865         Casa            Casa en venta en Engativa             7      5   \n",
              "5832  Apartamento      Apartamento en venta en Kennedy             3      1   \n",
              "6346  Apartamento  Apartamento en venta en Teusaquillo             1      1   \n",
              "1129         Casa   Casa en venta en Villas De Granada             4      2   \n",
              "8253         Casa            Casa en venta en Engativa             4      5   \n",
              "\n",
              "      Area             Barrio              UPZ          Valor  \n",
              "7865   324           Engativa         Engativá  $ 650.000.000  \n",
              "5832    51            Kennedy  Kennedy Central  $ 169.000.000  \n",
              "6346    37        Teusaquillo      Teusaquillo  $ 330.000.000  \n",
              "1129    96  Villas De Granada     Garcés Navas  $ 260.000.000  \n",
              "8253   200           Engativa         Engativá  $ 680.000.000  "
            ],
            "text/html": [
              "\n",
              "  <div id=\"df-e98e629b-3278-4505-b8a0-aea737bc3bc9\">\n",
              "    <div class=\"colab-df-container\">\n",
              "      <div>\n",
              "<style scoped>\n",
              "    .dataframe tbody tr th:only-of-type {\n",
              "        vertical-align: middle;\n",
              "    }\n",
              "\n",
              "    .dataframe tbody tr th {\n",
              "        vertical-align: top;\n",
              "    }\n",
              "\n",
              "    .dataframe thead th {\n",
              "        text-align: right;\n",
              "    }\n",
              "</style>\n",
              "<table border=\"1\" class=\"dataframe\">\n",
              "  <thead>\n",
              "    <tr style=\"text-align: right;\">\n",
              "      <th></th>\n",
              "      <th>Tipo</th>\n",
              "      <th>Descripcion</th>\n",
              "      <th>Habitaciones</th>\n",
              "      <th>Banos</th>\n",
              "      <th>Area</th>\n",
              "      <th>Barrio</th>\n",
              "      <th>UPZ</th>\n",
              "      <th>Valor</th>\n",
              "    </tr>\n",
              "  </thead>\n",
              "  <tbody>\n",
              "    <tr>\n",
              "      <th>7865</th>\n",
              "      <td>Casa</td>\n",
              "      <td>Casa en venta en Engativa</td>\n",
              "      <td>7</td>\n",
              "      <td>5</td>\n",
              "      <td>324</td>\n",
              "      <td>Engativa</td>\n",
              "      <td>Engativá</td>\n",
              "      <td>$ 650.000.000</td>\n",
              "    </tr>\n",
              "    <tr>\n",
              "      <th>5832</th>\n",
              "      <td>Apartamento</td>\n",
              "      <td>Apartamento en venta en Kennedy</td>\n",
              "      <td>3</td>\n",
              "      <td>1</td>\n",
              "      <td>51</td>\n",
              "      <td>Kennedy</td>\n",
              "      <td>Kennedy Central</td>\n",
              "      <td>$ 169.000.000</td>\n",
              "    </tr>\n",
              "    <tr>\n",
              "      <th>6346</th>\n",
              "      <td>Apartamento</td>\n",
              "      <td>Apartamento en venta en Teusaquillo</td>\n",
              "      <td>1</td>\n",
              "      <td>1</td>\n",
              "      <td>37</td>\n",
              "      <td>Teusaquillo</td>\n",
              "      <td>Teusaquillo</td>\n",
              "      <td>$ 330.000.000</td>\n",
              "    </tr>\n",
              "    <tr>\n",
              "      <th>1129</th>\n",
              "      <td>Casa</td>\n",
              "      <td>Casa en venta en Villas De Granada</td>\n",
              "      <td>4</td>\n",
              "      <td>2</td>\n",
              "      <td>96</td>\n",
              "      <td>Villas De Granada</td>\n",
              "      <td>Garcés Navas</td>\n",
              "      <td>$ 260.000.000</td>\n",
              "    </tr>\n",
              "    <tr>\n",
              "      <th>8253</th>\n",
              "      <td>Casa</td>\n",
              "      <td>Casa en venta en Engativa</td>\n",
              "      <td>4</td>\n",
              "      <td>5</td>\n",
              "      <td>200</td>\n",
              "      <td>Engativa</td>\n",
              "      <td>Engativá</td>\n",
              "      <td>$ 680.000.000</td>\n",
              "    </tr>\n",
              "  </tbody>\n",
              "</table>\n",
              "</div>\n",
              "      <button class=\"colab-df-convert\" onclick=\"convertToInteractive('df-e98e629b-3278-4505-b8a0-aea737bc3bc9')\"\n",
              "              title=\"Convert this dataframe to an interactive table.\"\n",
              "              style=\"display:none;\">\n",
              "        \n",
              "  <svg xmlns=\"http://www.w3.org/2000/svg\" height=\"24px\"viewBox=\"0 0 24 24\"\n",
              "       width=\"24px\">\n",
              "    <path d=\"M0 0h24v24H0V0z\" fill=\"none\"/>\n",
              "    <path d=\"M18.56 5.44l.94 2.06.94-2.06 2.06-.94-2.06-.94-.94-2.06-.94 2.06-2.06.94zm-11 1L8.5 8.5l.94-2.06 2.06-.94-2.06-.94L8.5 2.5l-.94 2.06-2.06.94zm10 10l.94 2.06.94-2.06 2.06-.94-2.06-.94-.94-2.06-.94 2.06-2.06.94z\"/><path d=\"M17.41 7.96l-1.37-1.37c-.4-.4-.92-.59-1.43-.59-.52 0-1.04.2-1.43.59L10.3 9.45l-7.72 7.72c-.78.78-.78 2.05 0 2.83L4 21.41c.39.39.9.59 1.41.59.51 0 1.02-.2 1.41-.59l7.78-7.78 2.81-2.81c.8-.78.8-2.07 0-2.86zM5.41 20L4 18.59l7.72-7.72 1.47 1.35L5.41 20z\"/>\n",
              "  </svg>\n",
              "      </button>\n",
              "      \n",
              "  <style>\n",
              "    .colab-df-container {\n",
              "      display:flex;\n",
              "      flex-wrap:wrap;\n",
              "      gap: 12px;\n",
              "    }\n",
              "\n",
              "    .colab-df-convert {\n",
              "      background-color: #E8F0FE;\n",
              "      border: none;\n",
              "      border-radius: 50%;\n",
              "      cursor: pointer;\n",
              "      display: none;\n",
              "      fill: #1967D2;\n",
              "      height: 32px;\n",
              "      padding: 0 0 0 0;\n",
              "      width: 32px;\n",
              "    }\n",
              "\n",
              "    .colab-df-convert:hover {\n",
              "      background-color: #E2EBFA;\n",
              "      box-shadow: 0px 1px 2px rgba(60, 64, 67, 0.3), 0px 1px 3px 1px rgba(60, 64, 67, 0.15);\n",
              "      fill: #174EA6;\n",
              "    }\n",
              "\n",
              "    [theme=dark] .colab-df-convert {\n",
              "      background-color: #3B4455;\n",
              "      fill: #D2E3FC;\n",
              "    }\n",
              "\n",
              "    [theme=dark] .colab-df-convert:hover {\n",
              "      background-color: #434B5C;\n",
              "      box-shadow: 0px 1px 3px 1px rgba(0, 0, 0, 0.15);\n",
              "      filter: drop-shadow(0px 1px 2px rgba(0, 0, 0, 0.3));\n",
              "      fill: #FFFFFF;\n",
              "    }\n",
              "  </style>\n",
              "\n",
              "      <script>\n",
              "        const buttonEl =\n",
              "          document.querySelector('#df-e98e629b-3278-4505-b8a0-aea737bc3bc9 button.colab-df-convert');\n",
              "        buttonEl.style.display =\n",
              "          google.colab.kernel.accessAllowed ? 'block' : 'none';\n",
              "\n",
              "        async function convertToInteractive(key) {\n",
              "          const element = document.querySelector('#df-e98e629b-3278-4505-b8a0-aea737bc3bc9');\n",
              "          const dataTable =\n",
              "            await google.colab.kernel.invokeFunction('convertToInteractive',\n",
              "                                                     [key], {});\n",
              "          if (!dataTable) return;\n",
              "\n",
              "          const docLinkHtml = 'Like what you see? Visit the ' +\n",
              "            '<a target=\"_blank\" href=https://colab.research.google.com/notebooks/data_table.ipynb>data table notebook</a>'\n",
              "            + ' to learn more about interactive tables.';\n",
              "          element.innerHTML = '';\n",
              "          dataTable['output_type'] = 'display_data';\n",
              "          await google.colab.output.renderOutput(dataTable, element);\n",
              "          const docLink = document.createElement('div');\n",
              "          docLink.innerHTML = docLinkHtml;\n",
              "          element.appendChild(docLink);\n",
              "        }\n",
              "      </script>\n",
              "    </div>\n",
              "  </div>\n",
              "  "
            ]
          },
          "metadata": {},
          "execution_count": 47
        }
      ]
    },
    {
      "cell_type": "markdown",
      "source": [
        "1.- Promedio de area de todos los inmuebles de los barrios del dataset (El top 10)"
      ],
      "metadata": {
        "id": "8VyaPH5j70yP"
      }
    },
    {
      "cell_type": "code",
      "source": [
        "#Ahora se crea una variable con estos atributos y se crea una grafica de menor a mayor en ascendente"
      ],
      "metadata": {
        "id": "XKHKNMxRKv_P"
      },
      "execution_count": null,
      "outputs": []
    },
    {
      "cell_type": "code",
      "source": [
        "avg = imb.groupby('Barrio').Area.mean()\n",
        "avg.sort_values(ascending=False).head(10).plot.barh(color='gray')"
      ],
      "metadata": {
        "colab": {
          "base_uri": "https://localhost:8080/",
          "height": 282
        },
        "id": "y4-Cddn187n7",
        "outputId": "01ba815f-f1aa-4c69-986d-f9e92fa11e85"
      },
      "execution_count": null,
      "outputs": [
        {
          "output_type": "execute_result",
          "data": {
            "text/plain": [
              "<Axes: ylabel='Barrio'>"
            ]
          },
          "metadata": {},
          "execution_count": 81
        },
        {
          "output_type": "display_data",
          "data": {
            "text/plain": [
              "<Figure size 432x288 with 1 Axes>"
            ],
            "image/png": "[encoded data removed]"
          },
          "metadata": {
            "needs_background": "light"
          }
        }
      ]
    },
    {
      "cell_type": "markdown",
      "source": [
        "2.- Consulta de otros datos estadisticos"
      ],
      "metadata": {
        "id": "RDh8HSBZTPpY"
      }
    },
    {
      "cell_type": "code",
      "source": [
        "#se agregan estos atributos para mostrar una tabla de los barrios en orden"
      ],
      "metadata": {
        "id": "0KCUUaCOU-m7"
      },
      "execution_count": null,
      "outputs": []
    },
    {
      "cell_type": "code",
      "source": [
        "imb.groupby(['Barrio'])['Area'].describe().sort_values(by='mean', ascending=False).head(10)"
      ],
      "metadata": {
        "colab": {
          "base_uri": "https://localhost:8080/",
          "height": 394
        },
        "id": "rzfAMFr_M673",
        "outputId": "dd20c79c-b807-4228-fda9-ced9a374e481"
      },
      "execution_count": null,
      "outputs": [
        {
          "output_type": "execute_result",
          "data": {
            "text/plain": [
              "                       count         mean           std    min     25%    50%  \\\n",
              "Barrio                                                                          \n",
              "Modelia                 40.0  4316.750000  26259.427757   48.0   87.75  155.5   \n",
              "Libertador               4.0   642.000000    394.907584  300.0  300.00  642.0   \n",
              "Bosa Piamonte            2.0   400.000000      0.000000  400.0  400.00  400.0   \n",
              "La Soledad               8.0   378.625000    414.352141   92.0  176.75  229.0   \n",
              "Restrepo                10.0   336.500000    187.555769   48.0  247.00  365.0   \n",
              "Santa Librada            2.0   328.000000     16.970563  316.0  322.00  328.0   \n",
              "Las Ferias               2.0   320.000000      0.000000  320.0  320.00  320.0   \n",
              "Santa Ana                8.0   309.375000    198.525232  108.0  162.50  245.0   \n",
              "Veraguas                 6.0   302.666667    442.178998   59.0   93.75  162.0   \n",
              "Bellavista Occidental    5.0   286.200000    155.005484  173.0  173.00  173.0   \n",
              "\n",
              "                          75%       max  \n",
              "Barrio                                   \n",
              "Modelia                224.00  166243.0  \n",
              "Libertador             984.00     984.0  \n",
              "Bosa Piamonte          400.00     400.0  \n",
              "La Soledad             355.00    1350.0  \n",
              "Restrepo               378.50     600.0  \n",
              "Santa Librada          334.00     340.0  \n",
              "Las Ferias             320.00     320.0  \n",
              "Santa Ana              422.75     674.0  \n",
              "Veraguas               162.00    1200.0  \n",
              "Bellavista Occidental  456.00     456.0  "
            ],
            "text/html": [
              "\n",
              "  <div id=\"df-67be40e3-99d9-4a00-a5e7-2852f6172b9e\">\n",
              "    <div class=\"colab-df-container\">\n",
              "      <div>\n",
              "<style scoped>\n",
              "    .dataframe tbody tr th:only-of-type {\n",
              "        vertical-align: middle;\n",
              "    }\n",
              "\n",
              "    .dataframe tbody tr th {\n",
              "        vertical-align: top;\n",
              "    }\n",
              "\n",
              "    .dataframe thead th {\n",
              "        text-align: right;\n",
              "    }\n",
              "</style>\n",
              "<table border=\"1\" class=\"dataframe\">\n",
              "  <thead>\n",
              "    <tr style=\"text-align: right;\">\n",
              "      <th></th>\n",
              "      <th>count</th>\n",
              "      <th>mean</th>\n",
              "      <th>std</th>\n",
              "      <th>min</th>\n",
              "      <th>25%</th>\n",
              "      <th>50%</th>\n",
              "      <th>75%</th>\n",
              "      <th>max</th>\n",
              "    </tr>\n",
              "    <tr>\n",
              "      <th>Barrio</th>\n",
              "      <th></th>\n",
              "      <th></th>\n",
              "      <th></th>\n",
              "      <th></th>\n",
              "      <th></th>\n",
              "      <th></th>\n",
              "      <th></th>\n",
              "      <th></th>\n",
              "    </tr>\n",
              "  </thead>\n",
              "  <tbody>\n",
              "    <tr>\n",
              "      <th>Modelia</th>\n",
              "      <td>40.0</td>\n",
              "      <td>4316.750000</td>\n",
              "      <td>26259.427757</td>\n",
              "      <td>48.0</td>\n",
              "      <td>87.75</td>\n",
              "      <td>155.5</td>\n",
              "      <td>224.00</td>\n",
              "      <td>166243.0</td>\n",
              "    </tr>\n",
              "    <tr>\n",
              "      <th>Libertador</th>\n",
              "      <td>4.0</td>\n",
              "      <td>642.000000</td>\n",
              "      <td>394.907584</td>\n",
              "      <td>300.0</td>\n",
              "      <td>300.00</td>\n",
              "      <td>642.0</td>\n",
              "      <td>984.00</td>\n",
              "      <td>984.0</td>\n",
              "    </tr>\n",
              "    <tr>\n",
              "      <th>Bosa Piamonte</th>\n",
              "      <td>2.0</td>\n",
              "      <td>400.000000</td>\n",
              "      <td>0.000000</td>\n",
              "      <td>400.0</td>\n",
              "      <td>400.00</td>\n",
              "      <td>400.0</td>\n",
              "      <td>400.00</td>\n",
              "      <td>400.0</td>\n",
              "    </tr>\n",
              "    <tr>\n",
              "      <th>La Soledad</th>\n",
              "      <td>8.0</td>\n",
              "      <td>378.625000</td>\n",
              "      <td>414.352141</td>\n",
              "      <td>92.0</td>\n",
              "      <td>176.75</td>\n",
              "      <td>229.0</td>\n",
              "      <td>355.00</td>\n",
              "      <td>1350.0</td>\n",
              "    </tr>\n",
              "    <tr>\n",
              "      <th>Restrepo</th>\n",
              "      <td>10.0</td>\n",
              "      <td>336.500000</td>\n",
              "      <td>187.555769</td>\n",
              "      <td>48.0</td>\n",
              "      <td>247.00</td>\n",
              "      <td>365.0</td>\n",
              "      <td>378.50</td>\n",
              "      <td>600.0</td>\n",
              "    </tr>\n",
              "    <tr>\n",
              "      <th>Santa Librada</th>\n",
              "      <td>2.0</td>\n",
              "      <td>328.000000</td>\n",
              "      <td>16.970563</td>\n",
              "      <td>316.0</td>\n",
              "      <td>322.00</td>\n",
              "      <td>328.0</td>\n",
              "      <td>334.00</td>\n",
              "      <td>340.0</td>\n",
              "    </tr>\n",
              "    <tr>\n",
              "      <th>Las Ferias</th>\n",
              "      <td>2.0</td>\n",
              "      <td>320.000000</td>\n",
              "      <td>0.000000</td>\n",
              "      <td>320.0</td>\n",
              "      <td>320.00</td>\n",
              "      <td>320.0</td>\n",
              "      <td>320.00</td>\n",
              "      <td>320.0</td>\n",
              "    </tr>\n",
              "    <tr>\n",
              "      <th>Santa Ana</th>\n",
              "      <td>8.0</td>\n",
              "      <td>309.375000</td>\n",
              "      <td>198.525232</td>\n",
              "      <td>108.0</td>\n",
              "      <td>162.50</td>\n",
              "      <td>245.0</td>\n",
              "      <td>422.75</td>\n",
              "      <td>674.0</td>\n",
              "    </tr>\n",
              "    <tr>\n",
              "      <th>Veraguas</th>\n",
              "      <td>6.0</td>\n",
              "      <td>302.666667</td>\n",
              "      <td>442.178998</td>\n",
              "      <td>59.0</td>\n",
              "      <td>93.75</td>\n",
              "      <td>162.0</td>\n",
              "      <td>162.00</td>\n",
              "      <td>1200.0</td>\n",
              "    </tr>\n",
              "    <tr>\n",
              "      <th>Bellavista Occidental</th>\n",
              "      <td>5.0</td>\n",
              "      <td>286.200000</td>\n",
              "      <td>155.005484</td>\n",
              "      <td>173.0</td>\n",
              "      <td>173.00</td>\n",
              "      <td>173.0</td>\n",
              "      <td>456.00</td>\n",
              "      <td>456.0</td>\n",
              "    </tr>\n",
              "  </tbody>\n",
              "</table>\n",
              "</div>\n",
              "      <button class=\"colab-df-convert\" onclick=\"convertToInteractive('df-67be40e3-99d9-4a00-a5e7-2852f6172b9e')\"\n",
              "              title=\"Convert this dataframe to an interactive table.\"\n",
              "              style=\"display:none;\">\n",
              "        \n",
              "  <svg xmlns=\"http://www.w3.org/2000/svg\" height=\"24px\"viewBox=\"0 0 24 24\"\n",
              "       width=\"24px\">\n",
              "    <path d=\"M0 0h24v24H0V0z\" fill=\"none\"/>\n",
              "    <path d=\"M18.56 5.44l.94 2.06.94-2.06 2.06-.94-2.06-.94-.94-2.06-.94 2.06-2.06.94zm-11 1L8.5 8.5l.94-2.06 2.06-.94-2.06-.94L8.5 2.5l-.94 2.06-2.06.94zm10 10l.94 2.06.94-2.06 2.06-.94-2.06-.94-.94-2.06-.94 2.06-2.06.94z\"/><path d=\"M17.41 7.96l-1.37-1.37c-.4-.4-.92-.59-1.43-.59-.52 0-1.04.2-1.43.59L10.3 9.45l-7.72 7.72c-.78.78-.78 2.05 0 2.83L4 21.41c.39.39.9.59 1.41.59.51 0 1.02-.2 1.41-.59l7.78-7.78 2.81-2.81c.8-.78.8-2.07 0-2.86zM5.41 20L4 18.59l7.72-7.72 1.47 1.35L5.41 20z\"/>\n",
              "  </svg>\n",
              "      </button>\n",
              "      \n",
              "  <style>\n",
              "    .colab-df-container {\n",
              "      display:flex;\n",
              "      flex-wrap:wrap;\n",
              "      gap: 12px;\n",
              "    }\n",
              "\n",
              "    .colab-df-convert {\n",
              "      background-color: #E8F0FE;\n",
              "      border: none;\n",
              "      border-radius: 50%;\n",
              "      cursor: pointer;\n",
              "      display: none;\n",
              "      fill: #1967D2;\n",
              "      height: 32px;\n",
              "      padding: 0 0 0 0;\n",
              "      width: 32px;\n",
              "    }\n",
              "\n",
              "    .colab-df-convert:hover {\n",
              "      background-color: #E2EBFA;\n",
              "      box-shadow: 0px 1px 2px rgba(60, 64, 67, 0.3), 0px 1px 3px 1px rgba(60, 64, 67, 0.15);\n",
              "      fill: #174EA6;\n",
              "    }\n",
              "\n",
              "    [theme=dark] .colab-df-convert {\n",
              "      background-color: #3B4455;\n",
              "      fill: #D2E3FC;\n",
              "    }\n",
              "\n",
              "    [theme=dark] .colab-df-convert:hover {\n",
              "      background-color: #434B5C;\n",
              "      box-shadow: 0px 1px 3px 1px rgba(0, 0, 0, 0.15);\n",
              "      filter: drop-shadow(0px 1px 2px rgba(0, 0, 0, 0.3));\n",
              "      fill: #FFFFFF;\n",
              "    }\n",
              "  </style>\n",
              "\n",
              "      <script>\n",
              "        const buttonEl =\n",
              "          document.querySelector('#df-67be40e3-99d9-4a00-a5e7-2852f6172b9e button.colab-df-convert');\n",
              "        buttonEl.style.display =\n",
              "          google.colab.kernel.accessAllowed ? 'block' : 'none';\n",
              "\n",
              "        async function convertToInteractive(key) {\n",
              "          const element = document.querySelector('#df-67be40e3-99d9-4a00-a5e7-2852f6172b9e');\n",
              "          const dataTable =\n",
              "            await google.colab.kernel.invokeFunction('convertToInteractive',\n",
              "                                                     [key], {});\n",
              "          if (!dataTable) return;\n",
              "\n",
              "          const docLinkHtml = 'Like what you see? Visit the ' +\n",
              "            '<a target=\"_blank\" href=https://colab.research.google.com/notebooks/data_table.ipynb>data table notebook</a>'\n",
              "            + ' to learn more about interactive tables.';\n",
              "          element.innerHTML = '';\n",
              "          dataTable['output_type'] = 'display_data';\n",
              "          await google.colab.output.renderOutput(dataTable, element);\n",
              "          const docLink = document.createElement('div');\n",
              "          docLink.innerHTML = docLinkHtml;\n",
              "          element.appendChild(docLink);\n",
              "        }\n",
              "      </script>\n",
              "    </div>\n",
              "  </div>\n",
              "  "
            ]
          },
          "metadata": {},
          "execution_count": 85
        }
      ]
    }
  ]
}